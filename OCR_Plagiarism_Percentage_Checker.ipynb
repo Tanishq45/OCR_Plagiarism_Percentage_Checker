{
 "cells": [
  {
   "cell_type": "code",
   "execution_count": 1,
   "metadata": {
    "colab": {
     "base_uri": "https://localhost:8080/",
     "height": 51
    },
    "colab_type": "code",
    "id": "OUU2ixCpva_L",
    "outputId": "cedc9c81-940e-44f9-a407-b906bc0ac677"
   },
   "outputs": [
    {
     "name": "stdout",
     "output_type": "stream",
     "text": [
      "Starting to Download!\n",
      "Download complete!\n"
     ]
    }
   ],
   "source": [
    "import requests\n",
    "import pytesseract\n",
    "import os\n",
    "from sklearn.feature_extraction.text import TfidfVectorizer\n",
    "from sklearn.metrics.pairwise import cosine_similarity\n",
    "print ('Starting to Download!')\n",
    "url = 'https://images.sampletemplates.com/wp-content/uploads/2017/04/Technical-Paper-Example1.jpg'\n",
    "r = requests.get(url)\n",
    "filename = '2.jpg'\n",
    "with open(filename, 'wb') as out_file:\n",
    "    out_file.write(r.content)\n",
    "print(\"Download complete!\")"
   ]
  },
  {
   "cell_type": "code",
   "execution_count": 2,
   "metadata": {},
   "outputs": [
    {
     "name": "stdout",
     "output_type": "stream",
     "text": [
      "Starting to Download!\n",
      "Download complete!\n"
     ]
    }
   ],
   "source": [
    "print ('Starting to Download!')\n",
    "url = 'https://images.template.net/wp-content/uploads/2017/06/Technical-Support-White-Paper.jpg'\n",
    "r = requests.get(url)\n",
    "filename_2 = '3.png'\n",
    "with open(filename_2, 'wb') as out_file:\n",
    "    out_file.write(r.content)\n",
    "print(\"Download complete!\")"
   ]
  },
  {
   "cell_type": "code",
   "execution_count": 3,
   "metadata": {},
   "outputs": [],
   "source": [
    "pytesseract.pytesseract.tesseract_cmd = r'C:\\Users\\ajayb\\AppData\\Local\\tesseract.exe'"
   ]
  },
  {
   "cell_type": "code",
   "execution_count": 4,
   "metadata": {
    "colab": {
     "base_uri": "https://localhost:8080/",
     "height": 102
    },
    "colab_type": "code",
    "id": "jTrX8LtltFgX",
    "outputId": "f3021430-383c-4e04-fd02-7a058359c91a",
    "scrolled": false
   },
   "outputs": [
    {
     "name": "stdout",
     "output_type": "stream",
     "text": [
      "--- Start recognize text from image ---\n",
      "‘Technical Research Paper\n",
      "“Microcontroller based Fault Detector”\n",
      "\n",
      "GENERAL Abstract\n",
      "\n",
      "Purpose: The aim of this research is to develop a device used to detect faults in the\n",
      "line and isolate the connected system or instrument connected to it\n",
      "\n",
      "Scope: This device involves the use of microcontroller for detection and isolation of\n",
      "the system of instrument with proper use of programming. The instrument devised is\n",
      "economical and effective compared to other protective devices available in market.\n",
      "\n",
      "After the patent of the product a large scale production is also possible for consumer\n",
      "\n",
      "Design Approach: The design methodology involves the use of microcontroller in\n",
      "conjugation with the relay circuitry with display on a LCD screen. It isa totally new\n",
      "design in the market and it will bea substitute to ELCB’s, MCB’s and Relays in near\n",
      "future\n",
      "\n",
      " \n",
      "\n",
      " \n",
      "\n",
      "Practical Implications: The circuit devised can be used in conjugation with the\n",
      "‘medical instrument, industrial instrument and even in the household application. It finds\n",
      "«alot of applications in factories and industries where costly instruments are to be saved\n",
      "from faults.\n",
      "\n",
      "Conclusion: The device thus developed is very economical and effective in the use of\n",
      "protection in household as well as industrial instrument protection, The added\n",
      "advantage of this circuit is that it shows the type of fault occurred on LCD and at the\n",
      "same time keeps the circuit in isolation until the fault is cleared.\n",
      "\n",
      "INTRODUCTION\n",
      "\n",
      "> A faut in electrical equipment is defined asa defect in its electrical circuit due to\n",
      "‘which the current is diverted from the intended path,\n",
      "\n",
      "> Faults are generally caused by mechanical failure, accidents, excessive internal and\n",
      "extemal stresses ete\n",
      "\n",
      "> The fault impedance being low, the fault currents are relatively high. During the faults,\n",
      "the power flow is diverted towards the fault and the supply to the neighboring zone is,\n",
      "affected. Voltages become unbalanced.\n",
      "\f",
      "\n",
      "------ Done -------\n"
     ]
    }
   ],
   "source": [
    "import cv2\n",
    "import numpy as np\n",
    "import pytesseract\n",
    "from PIL import Image\n",
    "def get_string(img_path):\n",
    "    img = cv2.imread(img_path)\n",
    "    img = cv2.cvtColor(img, cv2.COLOR_BGR2GRAY)\n",
    "    kernel = np.ones((1, 1), np.uint8)\n",
    "    img = cv2.dilate(img, kernel, iterations=1)\n",
    "    img = cv2.erode(img, kernel, iterations=1)\n",
    "    cv2.imwrite(\"removed_noise.png\", img)\n",
    "    cv2.imwrite(img_path, img)\n",
    "    result = pytesseract.image_to_string(Image.open(img_path))\n",
    "    return result\n",
    "print ('--- Start recognize text from image ---')\n",
    "print (get_string(filename))\n",
    "print (\"------ Done -------\")"
   ]
  },
  {
   "cell_type": "code",
   "execution_count": 5,
   "metadata": {},
   "outputs": [
    {
     "name": "stdout",
     "output_type": "stream",
     "text": [
      "--- Start recognize text from image ---\n",
      "Technical Support White Paper\n",
      "\n",
      "Date: August 3, 2007\n",
      "\n",
      "Title: Controlé USB Recovery documentation - using the Recovery utility to\n",
      "restore a Control4 device to factory default condition\n",
      "\n",
      "Product(s) affected:\n",
      "+ Control4 Media Controller, Home Theater Controller, Home Controller HC-300, Min\n",
      "Touch Screen v1 & v2, Speaker Point\n",
      "\n",
      "Topicts)\n",
      "+ How to restore a Control device to its factory default condition.\n",
      "\n",
      "Summary:\n",
      "The Controls Recovery utit wil enable Control dealers and installers to minimize the\n",
      "time, paperwork, inconvenience, and other costs associated with devices that fail during the\n",
      "update proces or at some other time, I wil quickly become a valuable tol in your\n",
      "Control arsenal\n",
      "\n",
      "(Occasionally, and most likely during an update process, a Contrld device wil become\n",
      "inoperable. At this point the Dealer / Installer cals Tech Support and troubleshoot the\n",
      "evice. if unable to restore the device using Tenet or other measures indicated by Tech\n",
      "Support, an RMA will be issued. An RMA is inconvenient and costly both for Controld and\n",
      "forthe Dealer / Installer due to increased time on the ob, shipping charges, anda probable\n",
      "return trip to the customer site\n",
      "\n",
      "‘Most ofthe devices which are retumed via RMA canbe restored to a fully functional\n",
      "condition. In order to enable Tech Support and the Dealer / Installer to have the ability to\n",
      "‘estore devices inthe field, Control has developed the Controlé Recovery utity. Now, ia\n",
      "device doesn't update correctly or in some other way becomes inoperable, the Dealer |\n",
      "Installer can recover that device immediately. This reduces the time, expense, and\n",
      "inconvenience for both partes incurred through the RMA process,\n",
      "\f",
      "\n",
      "------ Done -------\n"
     ]
    }
   ],
   "source": [
    "def get_string_2(img_path1):\n",
    "    img1= cv2.imread(img_path1)\n",
    "    img1 = cv2.cvtColor(img1, cv2.COLOR_BGR2GRAY)\n",
    "    kernel = np.ones((1, 1), np.uint8)\n",
    "    img1 = cv2.dilate(img1, kernel, iterations=1)\n",
    "    img1 = cv2.erode(img1, kernel, iterations=1)\n",
    "    cv2.imwrite(\"removed_noise.png\", img1)\n",
    "    cv2.imwrite(img_path1, img1)\n",
    "    result = pytesseract.image_to_string(Image.open(img_path1))\n",
    "    return result\n",
    "print ('--- Start recognize text from image ---')\n",
    "print (get_string_2(filename_2))\n",
    "print (\"------ Done -------\")"
   ]
  },
  {
   "cell_type": "code",
   "execution_count": 6,
   "metadata": {},
   "outputs": [
    {
     "name": "stdout",
     "output_type": "stream",
     "text": [
      "File deleted !\n"
     ]
    }
   ],
   "source": [
    "if os.path.exists(\"12.txt\"):\n",
    "    os.remove(\"12.txt\")\n",
    "  \n",
    "    # Print the statement once\n",
    "    # the file is deleted \n",
    "    print(\"File deleted !\") \n",
    "  \n",
    "else:\n",
    "  \n",
    "    # Print if file is not present \n",
    "    print(\"File doesnot exist !\") "
   ]
  },
  {
   "cell_type": "code",
   "execution_count": 7,
   "metadata": {
    "scrolled": false
   },
   "outputs": [
    {
     "name": "stdout",
     "output_type": "stream",
     "text": [
      "Technical Research Paper\n",
      "“Microcontroller based Fault Detector”\n",
      "\n",
      "GENERAL Abstract\n",
      "\n",
      "Purpose: The aim of this research is to develop a device used to detect faults in the\n",
      "line and isolate the connected system or instrument connected to it\n",
      "\n",
      "Seope: This device involves the use of microcontroller for detection and isolation of\n",
      "the system of instrument with proper use of programming. The instrument devised is\n",
      "economical and effective compared to other protective devices available in market,\n",
      "‘After the patent of the product « large scale production is also possible for consumer\n",
      "Design Approach: The design methodology involves the use of microcontroller in\n",
      "conjugation with the relay circuitry with display on a LCD screen. It isa totally new\n",
      "design in the market and it will bea substitute to ELCB’s, MCB’s and Relays in near\n",
      "future\n",
      "\n",
      " \n",
      "\n",
      " \n",
      "\n",
      "Practical Implications: The circuit devised can be used in conjugation with the\n",
      "‘medical instrument, industrial instrument and even in the household application. It finds\n",
      "«alot of applications in factories and industries where costly instruments are to be saved\n",
      "from faults.\n",
      "\n",
      "Conclusion: ‘The device thus developed is very economical and effective in the use of\n",
      "protection in household as well as industrial instrument protection, The added\n",
      "advantage of this circuit is that it shows the type of fault occurred on LCD and at the\n",
      "same time keeps the circuit in isolation until the fault is cleared.\n",
      "\n",
      "INTRODUCTION\n",
      "\n",
      "> A faut in electrical equipment is defined as a defect in its electrical circuit due to\n",
      "‘which the current is diverted from the intended path,\n",
      "\n",
      "> Faults are generally caused by mechanical failure, accidents, excessive internal and\n",
      "extemal stresses ete\n",
      "\n",
      "> The fault impedance being low, the fault currents are relatively high. During the faults,\n",
      "the power flow is diverted towards the fault and the supply to the neighboring zone is,\n",
      "affected. Voltages become unbalanced.\n",
      "\f",
      "\n"
     ]
    }
   ],
   "source": [
    "f = open(\"12.txt\", \"x\")\n",
    "f = open(\"12.txt\", \"a\")\n",
    "f.write(get_string(filename))\n",
    "f.close()\n",
    "f = open(\"12.txt\", \"r\")\n",
    "print(f.read())\n",
    "f.close()"
   ]
  },
  {
   "cell_type": "code",
   "execution_count": 8,
   "metadata": {},
   "outputs": [
    {
     "name": "stdout",
     "output_type": "stream",
     "text": [
      "File deleted !\n"
     ]
    }
   ],
   "source": [
    "if os.path.exists(\"13.txt\"):\n",
    "    os.remove(\"13.txt\")\n",
    "  \n",
    "    # Print the statement once\n",
    "    # the file is deleted \n",
    "    print(\"File deleted !\") \n",
    "  \n",
    "else:\n",
    "  \n",
    "    # Print if file is not present \n",
    "    print(\"File doesnot exist !\") "
   ]
  },
  {
   "cell_type": "code",
   "execution_count": 9,
   "metadata": {
    "scrolled": false
   },
   "outputs": [
    {
     "name": "stdout",
     "output_type": "stream",
     "text": [
      "Technical Support White Paper\n",
      "\n",
      "Date: August 3, 2007\n",
      "\n",
      "Title: Controlé USB Recovery documentation - using the Recovery utility to\n",
      "restore a Control4 device to factory default condition\n",
      "\n",
      "Product(s) affected:\n",
      "+ Control4 Media Controller, Home Theater Controller, Home Controller HC-300, Min\n",
      "Touch Screen v1 & v2, Speaker Point\n",
      "\n",
      "Topicts)\n",
      "+ How to restore a Control device to its factory default condition.\n",
      "\n",
      "Summary:\n",
      "The Controls Recovery utit wil enable Control dealers and installers to minimize the\n",
      "time, paperwork, inconvenience, and other costs associated with devices that fail during the\n",
      "update proces or at some other time, I wil quickly become a valuable tol in your\n",
      "Control arsenal\n",
      "\n",
      "(Occasionally, and most likely during an update process, a Contrld device wil become\n",
      "inoperable. At this point the Dealer / Installer cals Tech Support and troubleshoot the\n",
      "evice. if unable to restore the device using Tenet or other measures indicated by Tech\n",
      "Support, an RMA will be issued. An RMA is inconvenient and costly both for Controld and\n",
      "forthe Dealer / Installer due to increased time on the ob, shipping charges, anda probable\n",
      "return trip to the customer site\n",
      "\n",
      "‘Most ofthe devices which are retumed via RMA canbe restored to a fully functional\n",
      "condition. In order to enable Tech Support and the Dealer / Installer to have the ability to\n",
      "‘estore devices inthe field, Control has developed the Controlé Recovery utity. Now, ia\n",
      "device doesn't update correctly or in some other way becomes inoperable, the Dealer |\n",
      "Installer can recover that device immediately. This reduces the time, expense, and\n",
      "inconvenience for both partes incurred through the RMA process,\n",
      "\f",
      "\n"
     ]
    }
   ],
   "source": [
    "g = open(\"13.txt\", \"x\")\n",
    "g = open(\"13.txt\", \"a\")\n",
    "g.write(get_string(filename_2))\n",
    "g.close()\n",
    "g = open(\"13.txt\", \"r\")\n",
    "print(g.read())\n",
    "g.close()"
   ]
  },
  {
   "cell_type": "code",
   "execution_count": 10,
   "metadata": {},
   "outputs": [],
   "source": [
    "student_files = [doc for doc in os.listdir() if doc.endswith('.txt')]\n",
    "student_notes =[open(File).read() for File in  student_files]"
   ]
  },
  {
   "cell_type": "code",
   "execution_count": 11,
   "metadata": {},
   "outputs": [],
   "source": [
    "vectorize = lambda Text: TfidfVectorizer().fit_transform(Text).toarray()\n",
    "similarity = lambda doc1, doc2: cosine_similarity([doc1, doc2])"
   ]
  },
  {
   "cell_type": "code",
   "execution_count": 12,
   "metadata": {},
   "outputs": [],
   "source": [
    "vectors = vectorize(student_notes)\n",
    "s_vectors = list(zip(student_files, vectors))\n",
    "plagiarism_results = set()"
   ]
  },
  {
   "cell_type": "code",
   "execution_count": 13,
   "metadata": {},
   "outputs": [],
   "source": [
    "def check_plagiarism():\n",
    "    global s_vectors\n",
    "    for student_a, text_vector_a in s_vectors:\n",
    "        new_vectors =s_vectors.copy()\n",
    "        current_index = new_vectors.index((student_a, text_vector_a))\n",
    "        del new_vectors[current_index]\n",
    "        for student_b , text_vector_b in new_vectors:\n",
    "            sim_score = similarity(text_vector_a, text_vector_b)[0][1]\n",
    "            student_pair = sorted((student_a, student_b))\n",
    "            score = (student_pair[0], student_pair[1],sim_score)\n",
    "            plagiarism_results.add(score)\n",
    "    return plagiarism_results"
   ]
  },
  {
   "cell_type": "code",
   "execution_count": 14,
   "metadata": {},
   "outputs": [
    {
     "name": "stdout",
     "output_type": "stream",
     "text": [
      "('12.txt', '13.txt', 0.46045626081270197)\n"
     ]
    }
   ],
   "source": [
    "for data in check_plagiarism():\n",
    "    print(data)"
   ]
  }
 ],
 "metadata": {
  "accelerator": "GPU",
  "colab": {
   "collapsed_sections": [
    "0GHxCcNS3EhN",
    "qzkn3o9H3QIc"
   ],
   "name": "OCR-Tesseract-Python.ipynb",
   "provenance": [],
   "version": "0.3.2"
  },
  "kernelspec": {
   "display_name": "Python 3",
   "language": "python",
   "name": "python3"
  },
  "language_info": {
   "codemirror_mode": {
    "name": "ipython",
    "version": 3
   },
   "file_extension": ".py",
   "mimetype": "text/x-python",
   "name": "python",
   "nbconvert_exporter": "python",
   "pygments_lexer": "ipython3",
   "version": "3.8.5"
  }
 },
 "nbformat": 4,
 "nbformat_minor": 1
}
